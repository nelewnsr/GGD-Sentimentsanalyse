{
 "cells": [
  {
   "cell_type": "code",
   "execution_count": 1,
   "metadata": {},
   "outputs": [],
   "source": [
    "from bs4 import BeautifulSoup\n",
    "import requests\n",
    "import pandas as pd\n",
    "import itertools\n",
    "import matplotlib.pyplot as plt"
   ]
  },
  {
   "cell_type": "code",
   "execution_count": 2,
   "metadata": {},
   "outputs": [
    {
     "data": {
      "text/plain": [
       "['http://nos.nl/nieuwsuur/artikel/2380218-niet-iedere-ggd-registreert-coronavaccinatie-in-het-gele-boekje',\n",
       " 'http://nos.nl/nieuwsuur/video/2380778-welke-lessen-trekt-de-ggd-uit-de-vaccinatiecampagne',\n",
       " 'http://nos.nl/nieuwsuur/artikel/2380772-ggd-wil-landelijke-crisisorganisatie-tussen-ministerie-en-regionale-ggd-s',\n",
       " 'http://nos.nl/artikel/2379760-ggd-komt-nog-duizenden-werknemers-tekort-voor-massavaccinatie',\n",
       " 'http://nos.nl/artikel/2379364-verdachten-datadiefstal-ggd-niet-van-bewust-dat-het-heel-ernstig-was']"
      ]
     },
     "execution_count": 2,
     "metadata": {},
     "output_type": "execute_result"
    }
   ],
   "source": [
    "# Verzamel URL van elk artikel\n",
    "pagelinks = []  # aanmaken leeg object om met links te vullen\n",
    "url = \"https://nos.nl/zoeken?q=GGD&date=2020-01-01&page=1\"  # basis URL\n",
    "\n",
    "while True:  # run loop terwijl IF statement TRUE is\n",
    "    page = requests.get(url)  # benader URL\n",
    "    soup = BeautifulSoup(page.content, 'html.parser')  # download HTML-code\n",
    "    weblinks = soup.find_all(\"a\", {\"class\": \"search-results__link\"})  # verzamel alle HTML-code van de artikelen\n",
    "    pl =[]\n",
    "    for i in range(len(weblinks)):   # voor elke HTML-code die een artikellink bevat: \n",
    "            pl.append('http://nos.nl'+ weblinks[i].get('href'))   # sla alle links uit de HTML-code op\n",
    "    pagelinks.append(pl)  # voeg deze toe aan het object pagelinks\n",
    "    if soup.find_all(\"span\", {\"class\": \"js-update link-hover\"}):  # run loop terwijl dit TRUE is\n",
    "        next_page = soup.find(\"span\", {\"class\": \"js-update link-hover\"})  # verzamel de HTML-code van de volgende pagina\n",
    "        url = \"https://nos.nl\" + next_page.get('data-url') + \"&date=2020-01-01\"  # haal de url eruit en voeg samen tot een link\n",
    "    else:\n",
    "        break\n",
    "\n",
    "pagelinks_flat = list(itertools.chain(*pagelinks))  # flatten de list\n",
    "pagelinks_flat[:5]"
   ]
  },
  {
   "cell_type": "code",
   "execution_count": 3,
   "metadata": {},
   "outputs": [
    {
     "data": {
      "text/plain": [
       "['Niet iedere GGD registreert coronavaccinatie in het gele boekje ',\n",
       " 'Welke lessen trekt de GGD uit de vaccinatiecampagne?',\n",
       " \"GGD wil landelijke crisisorganisatie tussen ministerie en regionale GGD's\",\n",
       " 'GGD komt nog duizenden werknemers tekort voor massavaccinatie',\n",
       " \"Verdachten datadiefstal GGD: 'Niet van bewust dat het heel ernstig was'\"]"
      ]
     },
     "execution_count": 3,
     "metadata": {},
     "output_type": "execute_result"
    }
   ],
   "source": [
    "# Verzamel titel van elk artikel\n",
    "title = []\n",
    "url = \"https://nos.nl/zoeken?q=GGD&date=2020-01-01&page=1\"\n",
    "\n",
    "while True:\n",
    "    page = requests.get(url) \n",
    "    soup = BeautifulSoup(page.content, 'html.parser')\n",
    "    titles = soup.find_all(\"h3\", {\"class\": \"search-results__title\"})  # aangepast naar titel node en class\n",
    "    tt = []\n",
    "    for i in range(len(titles)):    \n",
    "          tt.append(titles[i].get_text())\n",
    "    title.append(tt)\n",
    "    if soup.find_all(\"span\", {\"class\": \"js-update link-hover\"}):\n",
    "        next_page = soup.find(\"span\", {\"class\": \"js-update link-hover\"})\n",
    "        url = \"https://nos.nl\" + next_page.get('data-url') + \"&date=2020-01-01\"\n",
    "    else:\n",
    "        break\n",
    "        \n",
    "title_flat = list(itertools.chain(*title))\n",
    "title_flat[:5]"
   ]
  },
  {
   "cell_type": "code",
   "execution_count": 4,
   "metadata": {},
   "outputs": [
    {
     "data": {
      "text/plain": [
       "['2021-05-10T21:15:30+0200',\n",
       " '2021-05-14T12:32:52+0200',\n",
       " '2021-05-14T22:33:46+0200',\n",
       " '2021-05-07T16:29:08+0200',\n",
       " '2021-05-04T12:58:40+0200']"
      ]
     },
     "execution_count": 4,
     "metadata": {},
     "output_type": "execute_result"
    }
   ],
   "source": [
    "# Verzamel datum van elk artikel\n",
    "date = []\n",
    "url = \"https://nos.nl/zoeken?q=GGD&date=2020-01-01&page=1\"\n",
    "\n",
    "while True:\n",
    "    page = requests.get(url) \n",
    "    soup = BeautifulSoup(page.content, 'html.parser')\n",
    "    time = soup.find_all(\"time\", {\"class\": \"search-results__time\"})  # aangepast naar datum node en class\n",
    "    dt = []\n",
    "    for i in range(len(time)):    \n",
    "          dt.append(time[i].get('datetime'))\n",
    "    date.append(dt)\n",
    "    if soup.find_all(\"span\", {\"class\": \"js-update link-hover\"}):\n",
    "        next_page = soup.find(\"span\", {\"class\": \"js-update link-hover\"})\n",
    "        url = \"https://nos.nl\" + next_page.get('data-url') + \"&date=2020-01-01\"\n",
    "    else:\n",
    "        break\n",
    "        \n",
    "date_flat = list(itertools.chain(*date))\n",
    "date_flat[:5]"
   ]
  },
  {
   "cell_type": "code",
   "execution_count": 5,
   "metadata": {},
   "outputs": [
    {
     "data": {
      "text/plain": [
       "[\"Niet alle GGD's werken mee aan het registreren van coronavaccinaties in het zogenoemde gele boekje. Het vaccinatieboekje is een officieel, meertalig vaccinatieregistratiesysteem van het ministerie van Volksgezondheid, Welzijn en Sport (VWS) en de Wereldgezondheidsorganisatie. Het wordt al jaren gebruikt voor het registreren van reisvaccinaties, zoals het hepatitisvaccin.\",\n",
       " '\"Mensen gaan ermee naar de GGD\\'s als ze hun prik halen, maar sommige GGD\\'s willen het niet invullen. Vervolgens bellen mensen ons voor hulp, maar wij kunnen niets doen\", zegt Willeke de Groot, directeur overheid van de Staatsdrukkerij en -uitgeverij (SDU), die het boekje uitgeeft. Volgens SDU speelt dat met name in GGD-regio\\'s Haaglanden, Drenthe en Noord- en Oost-Gelderland.',\n",
       " 'De Groot begrijpt niet waarom sommige GGD\\'s niet meewerken. \"Je moet een plan B hebben, voor een situatie als nu, waarin een Europa-breed vaccinatiebewijs er nog niet is.\" Ze bracht het nut en de internationale status van het gele boekje vorig jaar onder de aandacht van VWS en koepelorganisatie GGD GHOR, maar dat was tevergeefs. Op de vaccinatie-uitnodigingen die het RIVM verstuurt, wordt niet vermeld dat de genodigde het boekje kan meenemen.',\n",
       " 'Sommige landen, zoals Duitsland, Oostenrijk en IJsland, erkennen het boekje als vaccinatiebewijs. Gevaccineerden kunnen er dan ook mee afreizen naar die landen.',\n",
       " 'Dat wilde de in februari gevaccineerde zorgmedewerker Sigried Koster, die graag op vakantie wil naar IJsland. \"Ik was gevaccineerd op mijn werk, dus ik belde de GGD om achteraf een sticker in het boekje te zetten. Maar de GGD in Assen wilde dat niet doen, ze zeiden niet waarom.\" Koepelorganisatie GGD GHOR laat vandaag weten dat elke GGD-regio zelf mag bepalen of ze het boekje invullen.',\n",
       " 'Volgens de GGD is het papieren, Nederlandstalige registratiebewijs dat iedere gevaccineerde krijgt belangrijker dan het gele boekje. Dat laat de koepel weten aan oud-journalist Wouke van Scherrenburg, die zich vandaag op Twitter afvraagt waarom haar boekje niet werd ingevuld.',\n",
       " 'De Groot stelt dat het meertalige gele boekje bij uitstek geschikt is als vaccinatiebewijs in het buitenland, in tegenstelling tot het Nederlandstalige registratiebewijs van de GGD. Maar het ministerie van VWS laat weten: \"Niet elke Nederlander is in het bezit van zo\\'n boekje, laat staan andere Europeanen. Bovendien wil de EU een vaccinatiebewijs met een interoperabele, digitaal leesbare QR-code. Het gele boekje voldoet daar niet aan.\"',\n",
       " 'De afgelopen dagen werd bekend dat de EU binnenkort komt met een app waarmee mensen kunnen aantonen dat ze gevaccineerd of negatief getest zijn.',\n",
       " 'Vandaag maakte het ministerie van Buitenlandse Zaken bekend dat het wereldwijde reisverbod per 15 mei wordt opgeheven. Dat houdt in dat het na 15 mei weer mogelijk is dat landen op geel of groen worden gezet. Daarna wordt waarschijnlijk duidelijk of er wel of geen vaccinatiebewijs nodig is om verschillende landen te bezoeken.']"
      ]
     },
     "execution_count": 5,
     "metadata": {},
     "output_type": "execute_result"
    }
   ],
   "source": [
    "# Verzamel de tekst van elk artikel\n",
    "thearticle = []\n",
    "for link in pagelinks_flat:    \n",
    "    paragraphtext = []    \n",
    "    url = link\n",
    "    page = requests.get(url)\n",
    "    soup = BeautifulSoup(page.text, 'html.parser')    \n",
    "    if \"video\" in link:\n",
    "        articletext = soup.find_all('p', {\"class\": 'videoDescription_bAtNIfDM'})\n",
    "    else:\n",
    "        articletext = soup.find_all('p', {\"class\":'text_3v_J6Y0G'})\n",
    "    for paragraph in articletext:\n",
    "        text = paragraph.get_text()\n",
    "        paragraphtext.append(text)        \n",
    "    thearticle.append(paragraphtext)\n",
    "    \n",
    "thearticle[0]"
   ]
  },
  {
   "cell_type": "code",
   "execution_count": 6,
   "metadata": {},
   "outputs": [
    {
     "data": {
      "text/html": [
       "<div>\n",
       "<style scoped>\n",
       "    .dataframe tbody tr th:only-of-type {\n",
       "        vertical-align: middle;\n",
       "    }\n",
       "\n",
       "    .dataframe tbody tr th {\n",
       "        vertical-align: top;\n",
       "    }\n",
       "\n",
       "    .dataframe thead th {\n",
       "        text-align: right;\n",
       "    }\n",
       "</style>\n",
       "<table border=\"1\" class=\"dataframe\">\n",
       "  <thead>\n",
       "    <tr style=\"text-align: right;\">\n",
       "      <th></th>\n",
       "      <th>datetime</th>\n",
       "      <th>pagelink</th>\n",
       "      <th>title</th>\n",
       "      <th>text</th>\n",
       "    </tr>\n",
       "  </thead>\n",
       "  <tbody>\n",
       "    <tr>\n",
       "      <th>0</th>\n",
       "      <td>2021-05-10T21:15:30+0200</td>\n",
       "      <td>http://nos.nl/nieuwsuur/artikel/2380218-niet-i...</td>\n",
       "      <td>Niet iedere GGD registreert coronavaccinatie i...</td>\n",
       "      <td>[Niet alle GGD's werken mee aan het registrere...</td>\n",
       "    </tr>\n",
       "    <tr>\n",
       "      <th>1</th>\n",
       "      <td>2021-05-14T12:32:52+0200</td>\n",
       "      <td>http://nos.nl/nieuwsuur/video/2380778-welke-le...</td>\n",
       "      <td>Welke lessen trekt de GGD uit de vaccinatiecam...</td>\n",
       "      <td>[\\n      We spreken met Nicolette Rigter over ...</td>\n",
       "    </tr>\n",
       "  </tbody>\n",
       "</table>\n",
       "</div>"
      ],
      "text/plain": [
       "                   datetime  \\\n",
       "0  2021-05-10T21:15:30+0200   \n",
       "1  2021-05-14T12:32:52+0200   \n",
       "\n",
       "                                            pagelink  \\\n",
       "0  http://nos.nl/nieuwsuur/artikel/2380218-niet-i...   \n",
       "1  http://nos.nl/nieuwsuur/video/2380778-welke-le...   \n",
       "\n",
       "                                               title  \\\n",
       "0  Niet iedere GGD registreert coronavaccinatie i...   \n",
       "1  Welke lessen trekt de GGD uit de vaccinatiecam...   \n",
       "\n",
       "                                                text  \n",
       "0  [Niet alle GGD's werken mee aan het registrere...  \n",
       "1  [\\n      We spreken met Nicolette Rigter over ...  "
      ]
     },
     "execution_count": 6,
     "metadata": {},
     "output_type": "execute_result"
    }
   ],
   "source": [
    "# Lists samenvoegen in dataframe\n",
    "df = pd.DataFrame(\n",
    "    {'datetime': date_flat,\n",
    "     'pagelink': pagelinks_flat,\n",
    "     'title': title_flat,\n",
    "     'text': thearticle\n",
    "    })\n",
    "\n",
    "df.head(2)"
   ]
  },
  {
   "cell_type": "code",
   "execution_count": 7,
   "metadata": {},
   "outputs": [],
   "source": [
    "# Liveblogs eruit filteren\n",
    "df = df[df[\"pagelink\"].str.contains(\"liveblog\")==False].reset_index(drop=True)"
   ]
  },
  {
   "cell_type": "code",
   "execution_count": 8,
   "metadata": {},
   "outputs": [
    {
     "data": {
      "text/html": [
       "<div>\n",
       "<style scoped>\n",
       "    .dataframe tbody tr th:only-of-type {\n",
       "        vertical-align: middle;\n",
       "    }\n",
       "\n",
       "    .dataframe tbody tr th {\n",
       "        vertical-align: top;\n",
       "    }\n",
       "\n",
       "    .dataframe thead th {\n",
       "        text-align: right;\n",
       "    }\n",
       "</style>\n",
       "<table border=\"1\" class=\"dataframe\">\n",
       "  <thead>\n",
       "    <tr style=\"text-align: right;\">\n",
       "      <th></th>\n",
       "      <th>datetime</th>\n",
       "      <th>pagelink</th>\n",
       "      <th>title</th>\n",
       "      <th>text</th>\n",
       "      <th>pure_title</th>\n",
       "      <th>pure_text</th>\n",
       "      <th>title_text</th>\n",
       "    </tr>\n",
       "  </thead>\n",
       "  <tbody>\n",
       "    <tr>\n",
       "      <th>0</th>\n",
       "      <td>2021-05-10T21:15:30+0200</td>\n",
       "      <td>http://nos.nl/nieuwsuur/artikel/2380218-niet-i...</td>\n",
       "      <td>Niet iedere GGD registreert coronavaccinatie i...</td>\n",
       "      <td>[Niet alle GGD's werken mee aan het registrere...</td>\n",
       "      <td>niet iedere ggd registreert coronavaccinatie i...</td>\n",
       "      <td>niet alle ggd s werken mee aan het registrere...</td>\n",
       "      <td>niet iedere ggd registreert coronavaccinatie i...</td>\n",
       "    </tr>\n",
       "    <tr>\n",
       "      <th>1</th>\n",
       "      <td>2021-05-14T12:32:52+0200</td>\n",
       "      <td>http://nos.nl/nieuwsuur/video/2380778-welke-le...</td>\n",
       "      <td>Welke lessen trekt de GGD uit de vaccinatiecam...</td>\n",
       "      <td>[\\n      We spreken met Nicolette Rigter over ...</td>\n",
       "      <td>welke lessen trekt de ggd uit de vaccinatiecam...</td>\n",
       "      <td>n      we spreken met nicolette rigter over d...</td>\n",
       "      <td>welke lessen trekt de ggd uit de vaccinatiecam...</td>\n",
       "    </tr>\n",
       "    <tr>\n",
       "      <th>2</th>\n",
       "      <td>2021-05-14T22:33:46+0200</td>\n",
       "      <td>http://nos.nl/nieuwsuur/artikel/2380772-ggd-wi...</td>\n",
       "      <td>GGD wil landelijke crisisorganisatie tussen mi...</td>\n",
       "      <td>[Koepelorganisatie GGD GHOR Nederland wil dat ...</td>\n",
       "      <td>ggd wil landelijke crisisorganisatie tussen mi...</td>\n",
       "      <td>koepelorganisatie ggd ghor nederland wil dat ...</td>\n",
       "      <td>ggd wil landelijke crisisorganisatie tussen mi...</td>\n",
       "    </tr>\n",
       "    <tr>\n",
       "      <th>3</th>\n",
       "      <td>2021-05-07T16:29:08+0200</td>\n",
       "      <td>http://nos.nl/artikel/2379760-ggd-komt-nog-dui...</td>\n",
       "      <td>GGD komt nog duizenden werknemers tekort voor ...</td>\n",
       "      <td>[De GGD zoekt nog minstens 6000 en waarschijnl...</td>\n",
       "      <td>ggd komt nog duizenden werknemers tekort voor ...</td>\n",
       "      <td>de ggd zoekt nog minstens 6000 en waarschijnl...</td>\n",
       "      <td>ggd komt nog duizenden werknemers tekort voor ...</td>\n",
       "    </tr>\n",
       "    <tr>\n",
       "      <th>4</th>\n",
       "      <td>2021-05-04T12:58:40+0200</td>\n",
       "      <td>http://nos.nl/artikel/2379364-verdachten-datad...</td>\n",
       "      <td>Verdachten datadiefstal GGD: 'Niet van bewust ...</td>\n",
       "      <td>[Twee verdachten in de strafzaak rond het 'GGD...</td>\n",
       "      <td>verdachten datadiefstal ggd   niet van bewust ...</td>\n",
       "      <td>twee verdachten in de strafzaak rond het  ggd...</td>\n",
       "      <td>verdachten datadiefstal ggd   niet van bewust ...</td>\n",
       "    </tr>\n",
       "  </tbody>\n",
       "</table>\n",
       "</div>"
      ],
      "text/plain": [
       "                   datetime  \\\n",
       "0  2021-05-10T21:15:30+0200   \n",
       "1  2021-05-14T12:32:52+0200   \n",
       "2  2021-05-14T22:33:46+0200   \n",
       "3  2021-05-07T16:29:08+0200   \n",
       "4  2021-05-04T12:58:40+0200   \n",
       "\n",
       "                                            pagelink  \\\n",
       "0  http://nos.nl/nieuwsuur/artikel/2380218-niet-i...   \n",
       "1  http://nos.nl/nieuwsuur/video/2380778-welke-le...   \n",
       "2  http://nos.nl/nieuwsuur/artikel/2380772-ggd-wi...   \n",
       "3  http://nos.nl/artikel/2379760-ggd-komt-nog-dui...   \n",
       "4  http://nos.nl/artikel/2379364-verdachten-datad...   \n",
       "\n",
       "                                               title  \\\n",
       "0  Niet iedere GGD registreert coronavaccinatie i...   \n",
       "1  Welke lessen trekt de GGD uit de vaccinatiecam...   \n",
       "2  GGD wil landelijke crisisorganisatie tussen mi...   \n",
       "3  GGD komt nog duizenden werknemers tekort voor ...   \n",
       "4  Verdachten datadiefstal GGD: 'Niet van bewust ...   \n",
       "\n",
       "                                                text  \\\n",
       "0  [Niet alle GGD's werken mee aan het registrere...   \n",
       "1  [\\n      We spreken met Nicolette Rigter over ...   \n",
       "2  [Koepelorganisatie GGD GHOR Nederland wil dat ...   \n",
       "3  [De GGD zoekt nog minstens 6000 en waarschijnl...   \n",
       "4  [Twee verdachten in de strafzaak rond het 'GGD...   \n",
       "\n",
       "                                          pure_title  \\\n",
       "0  niet iedere ggd registreert coronavaccinatie i...   \n",
       "1  welke lessen trekt de ggd uit de vaccinatiecam...   \n",
       "2  ggd wil landelijke crisisorganisatie tussen mi...   \n",
       "3  ggd komt nog duizenden werknemers tekort voor ...   \n",
       "4  verdachten datadiefstal ggd   niet van bewust ...   \n",
       "\n",
       "                                           pure_text  \\\n",
       "0   niet alle ggd s werken mee aan het registrere...   \n",
       "1   n      we spreken met nicolette rigter over d...   \n",
       "2   koepelorganisatie ggd ghor nederland wil dat ...   \n",
       "3   de ggd zoekt nog minstens 6000 en waarschijnl...   \n",
       "4   twee verdachten in de strafzaak rond het  ggd...   \n",
       "\n",
       "                                          title_text  \n",
       "0  niet iedere ggd registreert coronavaccinatie i...  \n",
       "1  welke lessen trekt de ggd uit de vaccinatiecam...  \n",
       "2  ggd wil landelijke crisisorganisatie tussen mi...  \n",
       "3  ggd komt nog duizenden werknemers tekort voor ...  \n",
       "4  verdachten datadiefstal ggd   niet van bewust ...  "
      ]
     },
     "execution_count": 8,
     "metadata": {},
     "output_type": "execute_result"
    }
   ],
   "source": [
    "# Leestekens verwijderen, hoofdletters vervangen door kleine letters en titel en tekst samenvoegen\n",
    "df['pure_title'] = df['title'].str.replace('[^A-Za-z0-9 ]+', ' ').str.lower()\n",
    "df['pure_text'] = df['text'].astype(str).str.replace('[^A-Za-z0-9 ]+', ' ').str.lower()\n",
    "df['title_text'] = df['pure_title'] + df['pure_text']\n",
    "df.head()"
   ]
  },
  {
   "cell_type": "markdown",
   "metadata": {},
   "source": [
    "# Sentimentanalyse"
   ]
  },
  {
   "cell_type": "code",
   "execution_count": 10,
   "metadata": {},
   "outputs": [],
   "source": [
    "# Inladen van dataset met positieve en negatieve woorden\n",
    "# (Chen, Y., & Skiena, S., 2014. Building Sentiment Lexicons for All Major Languages. In ACL (2) (pp. 383-389))\n",
    "negative = pd.read_csv('negative_words_nl.txt', header=None).rename(columns={0: 'word'})\n",
    "negative['negative'] = 1\n",
    "positive = pd.read_csv('positive_words_nl.txt', header=None).rename(columns={0: 'word'})\n",
    "positive['positive'] = 1"
   ]
  },
  {
   "cell_type": "code",
   "execution_count": 11,
   "metadata": {},
   "outputs": [
    {
     "data": {
      "text/html": [
       "<div>\n",
       "<style scoped>\n",
       "    .dataframe tbody tr th:only-of-type {\n",
       "        vertical-align: middle;\n",
       "    }\n",
       "\n",
       "    .dataframe tbody tr th {\n",
       "        vertical-align: top;\n",
       "    }\n",
       "\n",
       "    .dataframe thead th {\n",
       "        text-align: right;\n",
       "    }\n",
       "</style>\n",
       "<table border=\"1\" class=\"dataframe\">\n",
       "  <thead>\n",
       "    <tr style=\"text-align: right;\">\n",
       "      <th></th>\n",
       "      <th>word</th>\n",
       "      <th>positive</th>\n",
       "      <th>negative</th>\n",
       "    </tr>\n",
       "  </thead>\n",
       "  <tbody>\n",
       "    <tr>\n",
       "      <th>0</th>\n",
       "      <td>eerste</td>\n",
       "      <td>1.0</td>\n",
       "      <td>0.0</td>\n",
       "    </tr>\n",
       "    <tr>\n",
       "      <th>1</th>\n",
       "      <td>naam</td>\n",
       "      <td>1.0</td>\n",
       "      <td>0.0</td>\n",
       "    </tr>\n",
       "    <tr>\n",
       "      <th>2</th>\n",
       "      <td>waar</td>\n",
       "      <td>1.0</td>\n",
       "      <td>0.0</td>\n",
       "    </tr>\n",
       "    <tr>\n",
       "      <th>3</th>\n",
       "      <td>wel</td>\n",
       "      <td>1.0</td>\n",
       "      <td>0.0</td>\n",
       "    </tr>\n",
       "    <tr>\n",
       "      <th>4</th>\n",
       "      <td>zoals</td>\n",
       "      <td>1.0</td>\n",
       "      <td>0.0</td>\n",
       "    </tr>\n",
       "    <tr>\n",
       "      <th>...</th>\n",
       "      <td>...</td>\n",
       "      <td>...</td>\n",
       "      <td>...</td>\n",
       "    </tr>\n",
       "    <tr>\n",
       "      <th>2465</th>\n",
       "      <td>stereotiep</td>\n",
       "      <td>0.0</td>\n",
       "      <td>1.0</td>\n",
       "    </tr>\n",
       "    <tr>\n",
       "      <th>2466</th>\n",
       "      <td>smeekbede</td>\n",
       "      <td>0.0</td>\n",
       "      <td>1.0</td>\n",
       "    </tr>\n",
       "    <tr>\n",
       "      <th>2467</th>\n",
       "      <td>irrationaal</td>\n",
       "      <td>0.0</td>\n",
       "      <td>1.0</td>\n",
       "    </tr>\n",
       "    <tr>\n",
       "      <th>2468</th>\n",
       "      <td>gallen</td>\n",
       "      <td>0.0</td>\n",
       "      <td>1.0</td>\n",
       "    </tr>\n",
       "    <tr>\n",
       "      <th>2469</th>\n",
       "      <td>erbarmelijk</td>\n",
       "      <td>0.0</td>\n",
       "      <td>1.0</td>\n",
       "    </tr>\n",
       "  </tbody>\n",
       "</table>\n",
       "<p>3969 rows × 3 columns</p>\n",
       "</div>"
      ],
      "text/plain": [
       "             word  positive  negative\n",
       "0          eerste       1.0       0.0\n",
       "1            naam       1.0       0.0\n",
       "2            waar       1.0       0.0\n",
       "3             wel       1.0       0.0\n",
       "4           zoals       1.0       0.0\n",
       "...           ...       ...       ...\n",
       "2465   stereotiep       0.0       1.0\n",
       "2466    smeekbede       0.0       1.0\n",
       "2467  irrationaal       0.0       1.0\n",
       "2468       gallen       0.0       1.0\n",
       "2469  erbarmelijk       0.0       1.0\n",
       "\n",
       "[3969 rows x 3 columns]"
      ]
     },
     "execution_count": 11,
     "metadata": {},
     "output_type": "execute_result"
    }
   ],
   "source": [
    "# Woorden uit txt bestand samenvoegen in een dataframe \n",
    "words = positive.append(negative).fillna(0)\n",
    "words"
   ]
  },
  {
   "cell_type": "code",
   "execution_count": 12,
   "metadata": {},
   "outputs": [
    {
     "data": {
      "text/html": [
       "<div>\n",
       "<style scoped>\n",
       "    .dataframe tbody tr th:only-of-type {\n",
       "        vertical-align: middle;\n",
       "    }\n",
       "\n",
       "    .dataframe tbody tr th {\n",
       "        vertical-align: top;\n",
       "    }\n",
       "\n",
       "    .dataframe thead th {\n",
       "        text-align: right;\n",
       "    }\n",
       "</style>\n",
       "<table border=\"1\" class=\"dataframe\">\n",
       "  <thead>\n",
       "    <tr style=\"text-align: right;\">\n",
       "      <th></th>\n",
       "      <th>level_0</th>\n",
       "      <th>word</th>\n",
       "    </tr>\n",
       "  </thead>\n",
       "  <tbody>\n",
       "    <tr>\n",
       "      <th>0</th>\n",
       "      <td>0</td>\n",
       "      <td>ggd</td>\n",
       "    </tr>\n",
       "    <tr>\n",
       "      <th>1</th>\n",
       "      <td>0</td>\n",
       "      <td>komt</td>\n",
       "    </tr>\n",
       "    <tr>\n",
       "      <th>2</th>\n",
       "      <td>0</td>\n",
       "      <td>nog</td>\n",
       "    </tr>\n",
       "    <tr>\n",
       "      <th>3</th>\n",
       "      <td>0</td>\n",
       "      <td>duizenden</td>\n",
       "    </tr>\n",
       "    <tr>\n",
       "      <th>4</th>\n",
       "      <td>0</td>\n",
       "      <td>werknemers</td>\n",
       "    </tr>\n",
       "  </tbody>\n",
       "</table>\n",
       "</div>"
      ],
      "text/plain": [
       "   level_0        word\n",
       "0        0         ggd\n",
       "1        0        komt\n",
       "2        0         nog\n",
       "3        0   duizenden\n",
       "4        0  werknemers"
      ]
     },
     "execution_count": 12,
     "metadata": {},
     "output_type": "execute_result"
    }
   ],
   "source": [
    "# Tekst opsplitsen in woorden\n",
    "df_sentiment = df[['title_text']]\n",
    "df_sent = df_sentiment['title_text'].str.split(' ', expand=True).stack().reset_index(level=0)\n",
    "df_sent = df_sent.rename(columns={0: 'word'})\n",
    "df_sent.head()"
   ]
  },
  {
   "cell_type": "code",
   "execution_count": 13,
   "metadata": {},
   "outputs": [
    {
     "data": {
      "text/html": [
       "<div>\n",
       "<style scoped>\n",
       "    .dataframe tbody tr th:only-of-type {\n",
       "        vertical-align: middle;\n",
       "    }\n",
       "\n",
       "    .dataframe tbody tr th {\n",
       "        vertical-align: top;\n",
       "    }\n",
       "\n",
       "    .dataframe thead th {\n",
       "        text-align: right;\n",
       "    }\n",
       "</style>\n",
       "<table border=\"1\" class=\"dataframe\">\n",
       "  <thead>\n",
       "    <tr style=\"text-align: right;\">\n",
       "      <th></th>\n",
       "      <th>positive</th>\n",
       "      <th>negative</th>\n",
       "    </tr>\n",
       "    <tr>\n",
       "      <th>level_0</th>\n",
       "      <th></th>\n",
       "      <th></th>\n",
       "    </tr>\n",
       "  </thead>\n",
       "  <tbody>\n",
       "    <tr>\n",
       "      <th>0</th>\n",
       "      <td>24.0</td>\n",
       "      <td>50.0</td>\n",
       "    </tr>\n",
       "    <tr>\n",
       "      <th>1</th>\n",
       "      <td>19.0</td>\n",
       "      <td>31.0</td>\n",
       "    </tr>\n",
       "    <tr>\n",
       "      <th>2</th>\n",
       "      <td>4.0</td>\n",
       "      <td>8.0</td>\n",
       "    </tr>\n",
       "    <tr>\n",
       "      <th>3</th>\n",
       "      <td>2.0</td>\n",
       "      <td>8.0</td>\n",
       "    </tr>\n",
       "    <tr>\n",
       "      <th>4</th>\n",
       "      <td>19.0</td>\n",
       "      <td>36.0</td>\n",
       "    </tr>\n",
       "  </tbody>\n",
       "</table>\n",
       "</div>"
      ],
      "text/plain": [
       "         positive  negative\n",
       "level_0                    \n",
       "0            24.0      50.0\n",
       "1            19.0      31.0\n",
       "2             4.0       8.0\n",
       "3             2.0       8.0\n",
       "4            19.0      36.0"
      ]
     },
     "execution_count": 13,
     "metadata": {},
     "output_type": "execute_result"
    }
   ],
   "source": [
    "# df_sent inner joinen met words en groeperen per artikel\n",
    "join = df_sent.merge(words, how='inner', on='word')\n",
    "join_sum = join.groupby('level_0')[[\"positive\", \"negative\"]].sum()\n",
    "join_sum.head()"
   ]
  },
  {
   "cell_type": "code",
   "execution_count": 14,
   "metadata": {},
   "outputs": [
    {
     "data": {
      "text/html": [
       "<div>\n",
       "<style scoped>\n",
       "    .dataframe tbody tr th:only-of-type {\n",
       "        vertical-align: middle;\n",
       "    }\n",
       "\n",
       "    .dataframe tbody tr th {\n",
       "        vertical-align: top;\n",
       "    }\n",
       "\n",
       "    .dataframe thead th {\n",
       "        text-align: right;\n",
       "    }\n",
       "</style>\n",
       "<table border=\"1\" class=\"dataframe\">\n",
       "  <thead>\n",
       "    <tr style=\"text-align: right;\">\n",
       "      <th></th>\n",
       "      <th>positive</th>\n",
       "      <th>negative</th>\n",
       "    </tr>\n",
       "  </thead>\n",
       "  <tbody>\n",
       "    <tr>\n",
       "      <th>count</th>\n",
       "      <td>828.000000</td>\n",
       "      <td>828.000000</td>\n",
       "    </tr>\n",
       "    <tr>\n",
       "      <th>mean</th>\n",
       "      <td>19.282609</td>\n",
       "      <td>24.339372</td>\n",
       "    </tr>\n",
       "    <tr>\n",
       "      <th>std</th>\n",
       "      <td>13.397552</td>\n",
       "      <td>15.794541</td>\n",
       "    </tr>\n",
       "    <tr>\n",
       "      <th>min</th>\n",
       "      <td>0.000000</td>\n",
       "      <td>0.000000</td>\n",
       "    </tr>\n",
       "    <tr>\n",
       "      <th>25%</th>\n",
       "      <td>9.000000</td>\n",
       "      <td>13.000000</td>\n",
       "    </tr>\n",
       "    <tr>\n",
       "      <th>50%</th>\n",
       "      <td>17.000000</td>\n",
       "      <td>22.000000</td>\n",
       "    </tr>\n",
       "    <tr>\n",
       "      <th>75%</th>\n",
       "      <td>27.000000</td>\n",
       "      <td>35.000000</td>\n",
       "    </tr>\n",
       "    <tr>\n",
       "      <th>max</th>\n",
       "      <td>96.000000</td>\n",
       "      <td>84.000000</td>\n",
       "    </tr>\n",
       "  </tbody>\n",
       "</table>\n",
       "</div>"
      ],
      "text/plain": [
       "         positive    negative\n",
       "count  828.000000  828.000000\n",
       "mean    19.282609   24.339372\n",
       "std     13.397552   15.794541\n",
       "min      0.000000    0.000000\n",
       "25%      9.000000   13.000000\n",
       "50%     17.000000   22.000000\n",
       "75%     27.000000   35.000000\n",
       "max     96.000000   84.000000"
      ]
     },
     "execution_count": 14,
     "metadata": {},
     "output_type": "execute_result"
    }
   ],
   "source": [
    "join_sum.describe()"
   ]
  },
  {
   "cell_type": "code",
   "execution_count": 15,
   "metadata": {},
   "outputs": [
    {
     "data": {
      "text/html": [
       "<div>\n",
       "<style scoped>\n",
       "    .dataframe tbody tr th:only-of-type {\n",
       "        vertical-align: middle;\n",
       "    }\n",
       "\n",
       "    .dataframe tbody tr th {\n",
       "        vertical-align: top;\n",
       "    }\n",
       "\n",
       "    .dataframe thead th {\n",
       "        text-align: right;\n",
       "    }\n",
       "</style>\n",
       "<table border=\"1\" class=\"dataframe\">\n",
       "  <thead>\n",
       "    <tr style=\"text-align: right;\">\n",
       "      <th></th>\n",
       "      <th>datetime</th>\n",
       "      <th>pagelink</th>\n",
       "      <th>title_text</th>\n",
       "      <th>positive</th>\n",
       "      <th>negative</th>\n",
       "    </tr>\n",
       "  </thead>\n",
       "  <tbody>\n",
       "    <tr>\n",
       "      <th>0</th>\n",
       "      <td>2021-05-07T16:29:08+0200</td>\n",
       "      <td>http://nos.nl/artikel/2379760-ggd-komt-nog-dui...</td>\n",
       "      <td>ggd komt nog duizenden werknemers tekort voor ...</td>\n",
       "      <td>24.0</td>\n",
       "      <td>50.0</td>\n",
       "    </tr>\n",
       "    <tr>\n",
       "      <th>1</th>\n",
       "      <td>2021-05-04T12:58:40+0200</td>\n",
       "      <td>http://nos.nl/artikel/2379364-verdachten-datad...</td>\n",
       "      <td>verdachten datadiefstal ggd   niet van bewust ...</td>\n",
       "      <td>19.0</td>\n",
       "      <td>31.0</td>\n",
       "    </tr>\n",
       "    <tr>\n",
       "      <th>2</th>\n",
       "      <td>2021-05-01T12:33:03+0200</td>\n",
       "      <td>http://nos.nl/artikel/2378964-ggd-telefonisch-...</td>\n",
       "      <td>ggd telefonisch weer bereikbaar  online nog ni...</td>\n",
       "      <td>4.0</td>\n",
       "      <td>8.0</td>\n",
       "    </tr>\n",
       "    <tr>\n",
       "      <th>3</th>\n",
       "      <td>2021-04-17T22:10:45+0200</td>\n",
       "      <td>http://nos.nl/nieuwsuur/video/2377144-het-rivm...</td>\n",
       "      <td>het rivm en ggd kunnen nu slecht inspelen op ...</td>\n",
       "      <td>2.0</td>\n",
       "      <td>8.0</td>\n",
       "    </tr>\n",
       "    <tr>\n",
       "      <th>4</th>\n",
       "      <td>2021-04-17T14:13:17+0200</td>\n",
       "      <td>http://nos.nl/artikel/2377083-topdrukte-bij-gg...</td>\n",
       "      <td>topdrukte bij ggd afsprakenlijn vaccinaties   ...</td>\n",
       "      <td>19.0</td>\n",
       "      <td>36.0</td>\n",
       "    </tr>\n",
       "  </tbody>\n",
       "</table>\n",
       "</div>"
      ],
      "text/plain": [
       "                   datetime  \\\n",
       "0  2021-05-07T16:29:08+0200   \n",
       "1  2021-05-04T12:58:40+0200   \n",
       "2  2021-05-01T12:33:03+0200   \n",
       "3  2021-04-17T22:10:45+0200   \n",
       "4  2021-04-17T14:13:17+0200   \n",
       "\n",
       "                                            pagelink  \\\n",
       "0  http://nos.nl/artikel/2379760-ggd-komt-nog-dui...   \n",
       "1  http://nos.nl/artikel/2379364-verdachten-datad...   \n",
       "2  http://nos.nl/artikel/2378964-ggd-telefonisch-...   \n",
       "3  http://nos.nl/nieuwsuur/video/2377144-het-rivm...   \n",
       "4  http://nos.nl/artikel/2377083-topdrukte-bij-gg...   \n",
       "\n",
       "                                          title_text  positive  negative  \n",
       "0  ggd komt nog duizenden werknemers tekort voor ...      24.0      50.0  \n",
       "1  verdachten datadiefstal ggd   niet van bewust ...      19.0      31.0  \n",
       "2  ggd telefonisch weer bereikbaar  online nog ni...       4.0       8.0  \n",
       "3   het rivm en ggd kunnen nu slecht inspelen op ...       2.0       8.0  \n",
       "4  topdrukte bij ggd afsprakenlijn vaccinaties   ...      19.0      36.0  "
      ]
     },
     "execution_count": 15,
     "metadata": {},
     "output_type": "execute_result"
    }
   ],
   "source": [
    "# Alles samenvoegen in data\n",
    "data = df.merge(join_sum, left_index=True, right_index=True, how='left')\n",
    "data = data.drop(columns=['title', 'text', 'pure_title', 'pure_text'])\n",
    "data.head()"
   ]
  },
  {
   "cell_type": "code",
   "execution_count": 16,
   "metadata": {},
   "outputs": [],
   "source": [
    "# Verschil berekenen\n",
    "data['verschil'] = data['positive'] - data['negative']"
   ]
  },
  {
   "cell_type": "code",
   "execution_count": 17,
   "metadata": {},
   "outputs": [
    {
     "data": {
      "text/html": [
       "<div>\n",
       "<style scoped>\n",
       "    .dataframe tbody tr th:only-of-type {\n",
       "        vertical-align: middle;\n",
       "    }\n",
       "\n",
       "    .dataframe tbody tr th {\n",
       "        vertical-align: top;\n",
       "    }\n",
       "\n",
       "    .dataframe thead th {\n",
       "        text-align: right;\n",
       "    }\n",
       "</style>\n",
       "<table border=\"1\" class=\"dataframe\">\n",
       "  <thead>\n",
       "    <tr style=\"text-align: right;\">\n",
       "      <th></th>\n",
       "      <th>datetime</th>\n",
       "      <th>pagelink</th>\n",
       "      <th>title</th>\n",
       "      <th>text</th>\n",
       "      <th>pure_title</th>\n",
       "      <th>pure_text</th>\n",
       "      <th>title_text</th>\n",
       "      <th>split</th>\n",
       "    </tr>\n",
       "  </thead>\n",
       "  <tbody>\n",
       "    <tr>\n",
       "      <th>0</th>\n",
       "      <td>2021-05-07T16:29:08+0200</td>\n",
       "      <td>http://nos.nl/artikel/2379760-ggd-komt-nog-dui...</td>\n",
       "      <td>GGD komt nog duizenden werknemers tekort voor ...</td>\n",
       "      <td>['De GGD zoekt nog minstens 6000 en waarschijn...</td>\n",
       "      <td>ggd komt nog duizenden werknemers tekort voor ...</td>\n",
       "      <td>de ggd zoekt nog minstens 6000 en waarschijnl...</td>\n",
       "      <td>ggd komt nog duizenden werknemers tekort voor ...</td>\n",
       "      <td>1</td>\n",
       "    </tr>\n",
       "    <tr>\n",
       "      <th>1</th>\n",
       "      <td>2021-05-04T12:58:40+0200</td>\n",
       "      <td>http://nos.nl/artikel/2379364-verdachten-datad...</td>\n",
       "      <td>Verdachten datadiefstal GGD: 'Niet van bewust ...</td>\n",
       "      <td>[\"Twee verdachten in de strafzaak rond het 'GG...</td>\n",
       "      <td>verdachten datadiefstal ggd   niet van bewust ...</td>\n",
       "      <td>twee verdachten in de strafzaak rond het  ggd...</td>\n",
       "      <td>verdachten datadiefstal ggd   niet van bewust ...</td>\n",
       "      <td>0</td>\n",
       "    </tr>\n",
       "    <tr>\n",
       "      <th>2</th>\n",
       "      <td>2021-05-01T12:33:03+0200</td>\n",
       "      <td>http://nos.nl/artikel/2378964-ggd-telefonisch-...</td>\n",
       "      <td>GGD telefonisch weer bereikbaar, online nog ni...</td>\n",
       "      <td>['Mensen die zich willen laten testen of laten...</td>\n",
       "      <td>ggd telefonisch weer bereikbaar  online nog ni...</td>\n",
       "      <td>mensen die zich willen laten testen of laten ...</td>\n",
       "      <td>ggd telefonisch weer bereikbaar  online nog ni...</td>\n",
       "      <td>0</td>\n",
       "    </tr>\n",
       "  </tbody>\n",
       "</table>\n",
       "</div>"
      ],
      "text/plain": [
       "                   datetime  \\\n",
       "0  2021-05-07T16:29:08+0200   \n",
       "1  2021-05-04T12:58:40+0200   \n",
       "2  2021-05-01T12:33:03+0200   \n",
       "\n",
       "                                            pagelink  \\\n",
       "0  http://nos.nl/artikel/2379760-ggd-komt-nog-dui...   \n",
       "1  http://nos.nl/artikel/2379364-verdachten-datad...   \n",
       "2  http://nos.nl/artikel/2378964-ggd-telefonisch-...   \n",
       "\n",
       "                                               title  \\\n",
       "0  GGD komt nog duizenden werknemers tekort voor ...   \n",
       "1  Verdachten datadiefstal GGD: 'Niet van bewust ...   \n",
       "2  GGD telefonisch weer bereikbaar, online nog ni...   \n",
       "\n",
       "                                                text  \\\n",
       "0  ['De GGD zoekt nog minstens 6000 en waarschijn...   \n",
       "1  [\"Twee verdachten in de strafzaak rond het 'GG...   \n",
       "2  ['Mensen die zich willen laten testen of laten...   \n",
       "\n",
       "                                          pure_title  \\\n",
       "0  ggd komt nog duizenden werknemers tekort voor ...   \n",
       "1  verdachten datadiefstal ggd   niet van bewust ...   \n",
       "2  ggd telefonisch weer bereikbaar  online nog ni...   \n",
       "\n",
       "                                           pure_text  \\\n",
       "0   de ggd zoekt nog minstens 6000 en waarschijnl...   \n",
       "1   twee verdachten in de strafzaak rond het  ggd...   \n",
       "2   mensen die zich willen laten testen of laten ...   \n",
       "\n",
       "                                          title_text  split  \n",
       "0  ggd komt nog duizenden werknemers tekort voor ...      1  \n",
       "1  verdachten datadiefstal ggd   niet van bewust ...      0  \n",
       "2  ggd telefonisch weer bereikbaar  online nog ni...      0  "
      ]
     },
     "execution_count": 17,
     "metadata": {},
     "output_type": "execute_result"
    }
   ],
   "source": [
    "# Dataset opsplitsen in aritkelen die gaan over vaccineren en de rest\n",
    "df['split'] = 0\n",
    "df.loc[df['pure_title'].str.contains(\"vaccin\"), 'split'] = 1  \n",
    "df.loc[df['pure_title'].str.contains(\"prik\"), 'split'] = 1  \n",
    "df.head(3)"
   ]
  },
  {
   "cell_type": "code",
   "execution_count": 18,
   "metadata": {},
   "outputs": [
    {
     "data": {
      "text/html": [
       "<div>\n",
       "<style scoped>\n",
       "    .dataframe tbody tr th:only-of-type {\n",
       "        vertical-align: middle;\n",
       "    }\n",
       "\n",
       "    .dataframe tbody tr th {\n",
       "        vertical-align: top;\n",
       "    }\n",
       "\n",
       "    .dataframe thead th {\n",
       "        text-align: right;\n",
       "    }\n",
       "</style>\n",
       "<table border=\"1\" class=\"dataframe\">\n",
       "  <thead>\n",
       "    <tr style=\"text-align: right;\">\n",
       "      <th></th>\n",
       "      <th>datetime</th>\n",
       "      <th>pagelink</th>\n",
       "      <th>title_text</th>\n",
       "      <th>positive</th>\n",
       "      <th>negative</th>\n",
       "      <th>verschil</th>\n",
       "      <th>split</th>\n",
       "    </tr>\n",
       "  </thead>\n",
       "  <tbody>\n",
       "    <tr>\n",
       "      <th>0</th>\n",
       "      <td>2021-05-07T16:29:08+0200</td>\n",
       "      <td>http://nos.nl/artikel/2379760-ggd-komt-nog-dui...</td>\n",
       "      <td>ggd komt nog duizenden werknemers tekort voor ...</td>\n",
       "      <td>24.0</td>\n",
       "      <td>50.0</td>\n",
       "      <td>-26.0</td>\n",
       "      <td>1</td>\n",
       "    </tr>\n",
       "    <tr>\n",
       "      <th>1</th>\n",
       "      <td>2021-05-04T12:58:40+0200</td>\n",
       "      <td>http://nos.nl/artikel/2379364-verdachten-datad...</td>\n",
       "      <td>verdachten datadiefstal ggd   niet van bewust ...</td>\n",
       "      <td>19.0</td>\n",
       "      <td>31.0</td>\n",
       "      <td>-12.0</td>\n",
       "      <td>0</td>\n",
       "    </tr>\n",
       "    <tr>\n",
       "      <th>2</th>\n",
       "      <td>2021-05-01T12:33:03+0200</td>\n",
       "      <td>http://nos.nl/artikel/2378964-ggd-telefonisch-...</td>\n",
       "      <td>ggd telefonisch weer bereikbaar  online nog ni...</td>\n",
       "      <td>4.0</td>\n",
       "      <td>8.0</td>\n",
       "      <td>-4.0</td>\n",
       "      <td>0</td>\n",
       "    </tr>\n",
       "  </tbody>\n",
       "</table>\n",
       "</div>"
      ],
      "text/plain": [
       "                   datetime  \\\n",
       "0  2021-05-07T16:29:08+0200   \n",
       "1  2021-05-04T12:58:40+0200   \n",
       "2  2021-05-01T12:33:03+0200   \n",
       "\n",
       "                                            pagelink  \\\n",
       "0  http://nos.nl/artikel/2379760-ggd-komt-nog-dui...   \n",
       "1  http://nos.nl/artikel/2379364-verdachten-datad...   \n",
       "2  http://nos.nl/artikel/2378964-ggd-telefonisch-...   \n",
       "\n",
       "                                          title_text  positive  negative  \\\n",
       "0  ggd komt nog duizenden werknemers tekort voor ...      24.0      50.0   \n",
       "1  verdachten datadiefstal ggd   niet van bewust ...      19.0      31.0   \n",
       "2  ggd telefonisch weer bereikbaar  online nog ni...       4.0       8.0   \n",
       "\n",
       "   verschil  split  \n",
       "0     -26.0      1  \n",
       "1     -12.0      0  \n",
       "2      -4.0      0  "
      ]
     },
     "execution_count": 18,
     "metadata": {},
     "output_type": "execute_result"
    }
   ],
   "source": [
    "# Splitsing joinen met data\n",
    "df3 = df[['datetime', 'split']]\n",
    "data = data.merge(df3, on = 'datetime', how='left')\n",
    "data.head(3)"
   ]
  },
  {
   "cell_type": "code",
   "execution_count": 19,
   "metadata": {},
   "outputs": [
    {
     "data": {
      "text/html": [
       "<div>\n",
       "<style scoped>\n",
       "    .dataframe tbody tr th:only-of-type {\n",
       "        vertical-align: middle;\n",
       "    }\n",
       "\n",
       "    .dataframe tbody tr th {\n",
       "        vertical-align: top;\n",
       "    }\n",
       "\n",
       "    .dataframe thead th {\n",
       "        text-align: right;\n",
       "    }\n",
       "</style>\n",
       "<table border=\"1\" class=\"dataframe\">\n",
       "  <thead>\n",
       "    <tr style=\"text-align: right;\">\n",
       "      <th></th>\n",
       "      <th>datetime</th>\n",
       "      <th>pagelink</th>\n",
       "      <th>title_text</th>\n",
       "      <th>positive</th>\n",
       "      <th>negative</th>\n",
       "      <th>verschil</th>\n",
       "      <th>split</th>\n",
       "    </tr>\n",
       "  </thead>\n",
       "  <tbody>\n",
       "    <tr>\n",
       "      <th>0</th>\n",
       "      <td>2021-05-07</td>\n",
       "      <td>http://nos.nl/artikel/2379760-ggd-komt-nog-dui...</td>\n",
       "      <td>ggd komt nog duizenden werknemers tekort voor ...</td>\n",
       "      <td>24.0</td>\n",
       "      <td>50.0</td>\n",
       "      <td>-26.0</td>\n",
       "      <td>1</td>\n",
       "    </tr>\n",
       "    <tr>\n",
       "      <th>1</th>\n",
       "      <td>2021-05-04</td>\n",
       "      <td>http://nos.nl/artikel/2379364-verdachten-datad...</td>\n",
       "      <td>verdachten datadiefstal ggd   niet van bewust ...</td>\n",
       "      <td>19.0</td>\n",
       "      <td>31.0</td>\n",
       "      <td>-12.0</td>\n",
       "      <td>0</td>\n",
       "    </tr>\n",
       "    <tr>\n",
       "      <th>2</th>\n",
       "      <td>2021-05-01</td>\n",
       "      <td>http://nos.nl/artikel/2378964-ggd-telefonisch-...</td>\n",
       "      <td>ggd telefonisch weer bereikbaar  online nog ni...</td>\n",
       "      <td>4.0</td>\n",
       "      <td>8.0</td>\n",
       "      <td>-4.0</td>\n",
       "      <td>0</td>\n",
       "    </tr>\n",
       "  </tbody>\n",
       "</table>\n",
       "</div>"
      ],
      "text/plain": [
       "    datetime                                           pagelink  \\\n",
       "0 2021-05-07  http://nos.nl/artikel/2379760-ggd-komt-nog-dui...   \n",
       "1 2021-05-04  http://nos.nl/artikel/2379364-verdachten-datad...   \n",
       "2 2021-05-01  http://nos.nl/artikel/2378964-ggd-telefonisch-...   \n",
       "\n",
       "                                          title_text  positive  negative  \\\n",
       "0  ggd komt nog duizenden werknemers tekort voor ...      24.0      50.0   \n",
       "1  verdachten datadiefstal ggd   niet van bewust ...      19.0      31.0   \n",
       "2  ggd telefonisch weer bereikbaar  online nog ni...       4.0       8.0   \n",
       "\n",
       "   verschil  split  \n",
       "0     -26.0      1  \n",
       "1     -12.0      0  \n",
       "2      -4.0      0  "
      ]
     },
     "execution_count": 19,
     "metadata": {},
     "output_type": "execute_result"
    }
   ],
   "source": [
    "# Datetime gebruiken zodat het als een datum wordt gezien\n",
    "data['datetime'] = data['datetime'].str.slice(0, -14)\n",
    "data['datetime'] = pd.to_datetime(data['datetime'])\n",
    "data.head(3)"
   ]
  },
  {
   "cell_type": "code",
   "execution_count": 20,
   "metadata": {},
   "outputs": [
    {
     "data": {
      "text/plain": [
       "<matplotlib.lines.Line2D at 0x1a88c9dcf70>"
      ]
     },
     "execution_count": 20,
     "metadata": {},
     "output_type": "execute_result"
    },
    {
     "data": {
      "image/png": "[encoded data removed]",
      "text/plain": [
       "<Figure size 720x360 with 1 Axes>"
      ]
     },
     "metadata": {
      "needs_background": "light"
     },
     "output_type": "display_data"
    }
   ],
   "source": [
    "# Plot verschil positief negatief\n",
    "plt.rcParams[\"figure.figsize\"] = (10, 5)\n",
    "data.plot.scatter(x=\"datetime\", y=\"verschil\", alpha=0.5)\n",
    "plt.axhline(y=0, linewidth=2, color='black')"
   ]
  },
  {
   "cell_type": "code",
   "execution_count": 21,
   "metadata": {},
   "outputs": [
    {
     "data": {
      "text/plain": [
       "<matplotlib.lines.Line2D at 0x1a88aef71c0>"
      ]
     },
     "execution_count": 21,
     "metadata": {},
     "output_type": "execute_result"
    },
    {
     "data": {
      "image/png": "[encoded data removed]",
      "text/plain": [
       "<Figure size 720x360 with 2 Axes>"
      ]
     },
     "metadata": {
      "needs_background": "light"
     },
     "output_type": "display_data"
    }
   ],
   "source": [
    "# Plot verschil positief negatief (geel: artikelen over vaccinatie, paars: artikelen niet over vaccinatie)\n",
    "plt.rcParams[\"figure.figsize\"] = (10, 5)\n",
    "data.plot.scatter(x=\"datetime\", y=\"verschil\", c='split', colormap='viridis', alpha=0.5)\n",
    "plt.axhline(y=0, linewidth=2, color='black')"
   ]
  },
  {
   "cell_type": "code",
   "execution_count": 22,
   "metadata": {},
   "outputs": [
    {
     "data": {
      "text/html": [
       "<div>\n",
       "<style scoped>\n",
       "    .dataframe tbody tr th:only-of-type {\n",
       "        vertical-align: middle;\n",
       "    }\n",
       "\n",
       "    .dataframe tbody tr th {\n",
       "        vertical-align: top;\n",
       "    }\n",
       "\n",
       "    .dataframe thead th {\n",
       "        text-align: right;\n",
       "    }\n",
       "</style>\n",
       "<table border=\"1\" class=\"dataframe\">\n",
       "  <thead>\n",
       "    <tr style=\"text-align: right;\">\n",
       "      <th></th>\n",
       "      <th>datetime</th>\n",
       "      <th>positive</th>\n",
       "      <th>negative</th>\n",
       "      <th>verschil</th>\n",
       "      <th>split</th>\n",
       "      <th>number_of_articles</th>\n",
       "    </tr>\n",
       "  </thead>\n",
       "  <tbody>\n",
       "    <tr>\n",
       "      <th>0</th>\n",
       "      <td>2020-02-29</td>\n",
       "      <td>13.729167</td>\n",
       "      <td>22.687500</td>\n",
       "      <td>-8.958333</td>\n",
       "      <td>0.0</td>\n",
       "      <td>50</td>\n",
       "    </tr>\n",
       "    <tr>\n",
       "      <th>1</th>\n",
       "      <td>2020-03-31</td>\n",
       "      <td>15.755102</td>\n",
       "      <td>25.408163</td>\n",
       "      <td>-9.653061</td>\n",
       "      <td>0.0</td>\n",
       "      <td>49</td>\n",
       "    </tr>\n",
       "    <tr>\n",
       "      <th>2</th>\n",
       "      <td>2020-04-30</td>\n",
       "      <td>19.875000</td>\n",
       "      <td>24.875000</td>\n",
       "      <td>-5.000000</td>\n",
       "      <td>0.0</td>\n",
       "      <td>41</td>\n",
       "    </tr>\n",
       "  </tbody>\n",
       "</table>\n",
       "</div>"
      ],
      "text/plain": [
       "    datetime   positive   negative  verschil  split  number_of_articles\n",
       "0 2020-02-29  13.729167  22.687500 -8.958333    0.0                  50\n",
       "1 2020-03-31  15.755102  25.408163 -9.653061    0.0                  49\n",
       "2 2020-04-30  19.875000  24.875000 -5.000000    0.0                  41"
      ]
     },
     "execution_count": 22,
     "metadata": {},
     "output_type": "execute_result"
    }
   ],
   "source": [
    "# Gemiddelde per maand\n",
    "data_mean = data.groupby(pd.Grouper(key='datetime',freq='M')).mean().reset_index()\n",
    "# Aantal artikelen per maand\n",
    "data_count = data.groupby(pd.Grouper(key='datetime',freq='M')).count().reset_index()\n",
    "data_count = data_count[['datetime', 'pagelink']].rename(columns={'pagelink': 'number_of_articles'})\n",
    "# Samenvoegen\n",
    "data_mean_count = data_mean.merge(data_count, on = 'datetime', how='left')\n",
    "data_mean_count.head(3)"
   ]
  },
  {
   "cell_type": "code",
   "execution_count": 23,
   "metadata": {},
   "outputs": [
    {
     "data": {
      "text/plain": [
       "<AxesSubplot:xlabel='datetime', ylabel='number_of_articles'>"
      ]
     },
     "execution_count": 23,
     "metadata": {},
     "output_type": "execute_result"
    },
    {
     "data": {
      "image/png": "[encoded data removed]",
      "text/plain": [
       "<Figure size 720x360 with 1 Axes>"
      ]
     },
     "metadata": {
      "needs_background": "light"
     },
     "output_type": "display_data"
    }
   ],
   "source": [
    "# Plot aantal artikelen per maand\n",
    "plt.rcParams[\"figure.figsize\"] = (10, 5)\n",
    "data_mean_count.plot.scatter(x=\"datetime\", y='number_of_articles')"
   ]
  },
  {
   "cell_type": "code",
   "execution_count": 24,
   "metadata": {},
   "outputs": [
    {
     "data": {
      "text/plain": [
       "<AxesSubplot:xlabel='datetime', ylabel='verschil'>"
      ]
     },
     "execution_count": 24,
     "metadata": {},
     "output_type": "execute_result"
    },
    {
     "data": {
      "image/png": "[encoded data removed]",
      "text/plain": [
       "<Figure size 720x360 with 2 Axes>"
      ]
     },
     "metadata": {
      "needs_background": "light"
     },
     "output_type": "display_data"
    }
   ],
   "source": [
    "# Plot verschil positief negatief per maand + aantal artikelen + percentage artikelen over vaccinatie\n",
    "plt.rcParams[\"figure.figsize\"] = (10, 5)\n",
    "data_mean_count.plot.scatter(x=\"datetime\", y=\"verschil\", s='number_of_articles', c='split', colormap='viridis')"
   ]
  },
  {
   "cell_type": "code",
   "execution_count": 25,
   "metadata": {},
   "outputs": [],
   "source": [
    "# Twee dataframes: vaccinatie en niet-vaccinatie\n",
    "grouped = data.groupby('split')\n",
    "vaccinatie2 = grouped.get_group(1)\n",
    "niet_vaccinatie2 = grouped.get_group(0)"
   ]
  },
  {
   "cell_type": "code",
   "execution_count": 26,
   "metadata": {},
   "outputs": [
    {
     "data": {
      "text/html": [
       "<div>\n",
       "<style scoped>\n",
       "    .dataframe tbody tr th:only-of-type {\n",
       "        vertical-align: middle;\n",
       "    }\n",
       "\n",
       "    .dataframe tbody tr th {\n",
       "        vertical-align: top;\n",
       "    }\n",
       "\n",
       "    .dataframe thead th {\n",
       "        text-align: right;\n",
       "    }\n",
       "</style>\n",
       "<table border=\"1\" class=\"dataframe\">\n",
       "  <thead>\n",
       "    <tr style=\"text-align: right;\">\n",
       "      <th></th>\n",
       "      <th>datetime</th>\n",
       "      <th>positive</th>\n",
       "      <th>negative</th>\n",
       "      <th>verschil</th>\n",
       "      <th>split</th>\n",
       "    </tr>\n",
       "  </thead>\n",
       "  <tbody>\n",
       "    <tr>\n",
       "      <th>0</th>\n",
       "      <td>2020-09-30</td>\n",
       "      <td>11.000000</td>\n",
       "      <td>19.000000</td>\n",
       "      <td>-8.0</td>\n",
       "      <td>1.0</td>\n",
       "    </tr>\n",
       "    <tr>\n",
       "      <th>1</th>\n",
       "      <td>2020-10-31</td>\n",
       "      <td>NaN</td>\n",
       "      <td>NaN</td>\n",
       "      <td>NaN</td>\n",
       "      <td>NaN</td>\n",
       "    </tr>\n",
       "    <tr>\n",
       "      <th>2</th>\n",
       "      <td>2020-11-30</td>\n",
       "      <td>38.666667</td>\n",
       "      <td>21.666667</td>\n",
       "      <td>17.0</td>\n",
       "      <td>1.0</td>\n",
       "    </tr>\n",
       "  </tbody>\n",
       "</table>\n",
       "</div>"
      ],
      "text/plain": [
       "    datetime   positive   negative  verschil  split\n",
       "0 2020-09-30  11.000000  19.000000      -8.0    1.0\n",
       "1 2020-10-31        NaN        NaN       NaN    NaN\n",
       "2 2020-11-30  38.666667  21.666667      17.0    1.0"
      ]
     },
     "execution_count": 26,
     "metadata": {},
     "output_type": "execute_result"
    }
   ],
   "source": [
    "# Vaccinatie groeperen per maand\n",
    "vaccinatie = vaccinatie2.groupby(pd.Grouper(key='datetime',freq='M')).mean().reset_index()\n",
    "vaccinatie.head(3)"
   ]
  },
  {
   "cell_type": "code",
   "execution_count": 27,
   "metadata": {},
   "outputs": [
    {
     "data": {
      "text/html": [
       "<div>\n",
       "<style scoped>\n",
       "    .dataframe tbody tr th:only-of-type {\n",
       "        vertical-align: middle;\n",
       "    }\n",
       "\n",
       "    .dataframe tbody tr th {\n",
       "        vertical-align: top;\n",
       "    }\n",
       "\n",
       "    .dataframe thead th {\n",
       "        text-align: right;\n",
       "    }\n",
       "</style>\n",
       "<table border=\"1\" class=\"dataframe\">\n",
       "  <thead>\n",
       "    <tr style=\"text-align: right;\">\n",
       "      <th></th>\n",
       "      <th>datetime</th>\n",
       "      <th>positive</th>\n",
       "      <th>negative</th>\n",
       "      <th>verschil</th>\n",
       "      <th>split</th>\n",
       "    </tr>\n",
       "  </thead>\n",
       "  <tbody>\n",
       "    <tr>\n",
       "      <th>0</th>\n",
       "      <td>2020-02-29</td>\n",
       "      <td>13.729167</td>\n",
       "      <td>22.687500</td>\n",
       "      <td>-8.958333</td>\n",
       "      <td>0</td>\n",
       "    </tr>\n",
       "    <tr>\n",
       "      <th>1</th>\n",
       "      <td>2020-03-31</td>\n",
       "      <td>15.755102</td>\n",
       "      <td>25.408163</td>\n",
       "      <td>-9.653061</td>\n",
       "      <td>0</td>\n",
       "    </tr>\n",
       "    <tr>\n",
       "      <th>2</th>\n",
       "      <td>2020-04-30</td>\n",
       "      <td>19.875000</td>\n",
       "      <td>24.875000</td>\n",
       "      <td>-5.000000</td>\n",
       "      <td>0</td>\n",
       "    </tr>\n",
       "  </tbody>\n",
       "</table>\n",
       "</div>"
      ],
      "text/plain": [
       "    datetime   positive   negative  verschil  split\n",
       "0 2020-02-29  13.729167  22.687500 -8.958333      0\n",
       "1 2020-03-31  15.755102  25.408163 -9.653061      0\n",
       "2 2020-04-30  19.875000  24.875000 -5.000000      0"
      ]
     },
     "execution_count": 27,
     "metadata": {},
     "output_type": "execute_result"
    }
   ],
   "source": [
    "# Niet-vaccinatie groeperen per maand\n",
    "niet_vaccinatie = niet_vaccinatie2.groupby(pd.Grouper(key='datetime',freq='M')).mean().reset_index()\n",
    "niet_vaccinatie.head(3)"
   ]
  },
  {
   "cell_type": "code",
   "execution_count": 28,
   "metadata": {},
   "outputs": [
    {
     "data": {
      "image/png": "[encoded data removed]",
      "text/plain": [
       "<Figure size 720x360 with 1 Axes>"
      ]
     },
     "metadata": {
      "needs_background": "light"
     },
     "output_type": "display_data"
    }
   ],
   "source": [
    "# Plot verschil positief negatief per maand + opgesplitst in vaccinatie/niet-vaccinatie\n",
    "fig = plt.figure()\n",
    "ax1 = fig.add_subplot(111)\n",
    "\n",
    "ax1.scatter(vaccinatie['datetime'], vaccinatie['verschil'], c='b', marker=\"o\", label='vaccinatie')\n",
    "ax1.scatter(niet_vaccinatie['datetime'], niet_vaccinatie['verschil'], c='r', marker=\"o\", label='niet_vaccinatie')\n",
    "plt.ylabel(\"verschil\")\n",
    "plt.legend(loc='upper left')\n",
    "plt.show()"
   ]
  },
  {
   "cell_type": "code",
   "execution_count": 29,
   "metadata": {},
   "outputs": [
    {
     "data": {
      "text/html": [
       "<div>\n",
       "<style scoped>\n",
       "    .dataframe tbody tr th:only-of-type {\n",
       "        vertical-align: middle;\n",
       "    }\n",
       "\n",
       "    .dataframe tbody tr th {\n",
       "        vertical-align: top;\n",
       "    }\n",
       "\n",
       "    .dataframe thead th {\n",
       "        text-align: right;\n",
       "    }\n",
       "</style>\n",
       "<table border=\"1\" class=\"dataframe\">\n",
       "  <thead>\n",
       "    <tr style=\"text-align: right;\">\n",
       "      <th></th>\n",
       "      <th>datetime</th>\n",
       "      <th>positive</th>\n",
       "      <th>negative</th>\n",
       "      <th>verschil</th>\n",
       "      <th>split</th>\n",
       "      <th>number_of_articles</th>\n",
       "    </tr>\n",
       "  </thead>\n",
       "  <tbody>\n",
       "    <tr>\n",
       "      <th>0</th>\n",
       "      <td>2020-02-02</td>\n",
       "      <td>10.000000</td>\n",
       "      <td>22.500000</td>\n",
       "      <td>-12.500000</td>\n",
       "      <td>0.0</td>\n",
       "      <td>2</td>\n",
       "    </tr>\n",
       "    <tr>\n",
       "      <th>1</th>\n",
       "      <td>2020-02-16</td>\n",
       "      <td>14.615385</td>\n",
       "      <td>20.076923</td>\n",
       "      <td>-5.461538</td>\n",
       "      <td>0.0</td>\n",
       "      <td>14</td>\n",
       "    </tr>\n",
       "    <tr>\n",
       "      <th>2</th>\n",
       "      <td>2020-03-01</td>\n",
       "      <td>13.297297</td>\n",
       "      <td>22.945946</td>\n",
       "      <td>-9.648649</td>\n",
       "      <td>0.0</td>\n",
       "      <td>38</td>\n",
       "    </tr>\n",
       "    <tr>\n",
       "      <th>3</th>\n",
       "      <td>2020-03-15</td>\n",
       "      <td>15.184211</td>\n",
       "      <td>24.078947</td>\n",
       "      <td>-8.894737</td>\n",
       "      <td>0.0</td>\n",
       "      <td>38</td>\n",
       "    </tr>\n",
       "    <tr>\n",
       "      <th>4</th>\n",
       "      <td>2020-03-29</td>\n",
       "      <td>21.714286</td>\n",
       "      <td>37.714286</td>\n",
       "      <td>-16.000000</td>\n",
       "      <td>0.0</td>\n",
       "      <td>7</td>\n",
       "    </tr>\n",
       "  </tbody>\n",
       "</table>\n",
       "</div>"
      ],
      "text/plain": [
       "    datetime   positive   negative   verschil  split  number_of_articles\n",
       "0 2020-02-02  10.000000  22.500000 -12.500000    0.0                   2\n",
       "1 2020-02-16  14.615385  20.076923  -5.461538    0.0                  14\n",
       "2 2020-03-01  13.297297  22.945946  -9.648649    0.0                  38\n",
       "3 2020-03-15  15.184211  24.078947  -8.894737    0.0                  38\n",
       "4 2020-03-29  21.714286  37.714286 -16.000000    0.0                   7"
      ]
     },
     "execution_count": 29,
     "metadata": {},
     "output_type": "execute_result"
    }
   ],
   "source": [
    "# Gemiddelde per 2 weken\n",
    "data_mean_2week = data.groupby(pd.Grouper(key='datetime',freq='2W')).mean().reset_index()\n",
    "# Aantal artikelen per 2 weken\n",
    "data_count_2week = data.groupby(pd.Grouper(key='datetime',freq='2W')).count().reset_index()\n",
    "data_count_2week = data_count_2week[['datetime', 'pagelink']].rename(columns={'pagelink': 'number_of_articles'})\n",
    "# Samenvoegen\n",
    "data_mean_count_2week = data_mean_2week.merge(data_count_2week, on = 'datetime', how='left')\n",
    "data_mean_count_2week.head()"
   ]
  },
  {
   "cell_type": "code",
   "execution_count": 30,
   "metadata": {},
   "outputs": [
    {
     "data": {
      "text/plain": [
       "<AxesSubplot:xlabel='datetime', ylabel='verschil'>"
      ]
     },
     "execution_count": 30,
     "metadata": {},
     "output_type": "execute_result"
    },
    {
     "data": {
      "image/png": "[encoded data removed]",
      "text/plain": [
       "<Figure size 720x360 with 2 Axes>"
      ]
     },
     "metadata": {
      "needs_background": "light"
     },
     "output_type": "display_data"
    }
   ],
   "source": [
    "# Plot verschil positief negatief per 2 weken + aantal artikelen\n",
    "plt.rcParams[\"figure.figsize\"] = (10, 5)\n",
    "data_mean_count_2week.plot.scatter(x=\"datetime\", y=\"verschil\", s='number_of_articles', c='number_of_articles', colormap='viridis')"
   ]
  },
  {
   "cell_type": "code",
   "execution_count": 31,
   "metadata": {},
   "outputs": [],
   "source": [
    "# Artikelen over vaccinatie per 2 weken\n",
    "vaccinatie_2week = vaccinatie2.groupby(pd.Grouper(key='datetime',freq='2W')).mean().reset_index()\n",
    "# Aantal artikelen over vaccinatie per 2 weken\n",
    "vaccinatie_count_2week = vaccinatie2.groupby(pd.Grouper(key='datetime',freq='2W')).count().reset_index()\n",
    "vaccinatie_count_2week = vaccinatie_count_2week[['datetime', 'pagelink']].rename(columns={'pagelink': 'number_of_articles'})\n",
    "# Artikelen niet over vaccinatie per 2 weken\n",
    "niet_vaccinatie_2week = niet_vaccinatie2.groupby(pd.Grouper(key='datetime',freq='2W')).mean().reset_index()\n",
    "# Aantal artikelen niet over vaccinatie per 2 weken\n",
    "niet_vaccinatie_count_2week = niet_vaccinatie2.groupby(pd.Grouper(key='datetime',freq='2W')).count().reset_index()\n",
    "niet_vaccinatie_count_2week = niet_vaccinatie_count_2week[['datetime', 'pagelink']].rename(columns={'pagelink': 'number_of_articles'})"
   ]
  },
  {
   "cell_type": "code",
   "execution_count": 32,
   "metadata": {},
   "outputs": [
    {
     "data": {
      "image/png": "[encoded data removed]",
      "text/plain": [
       "<Figure size 720x360 with 1 Axes>"
      ]
     },
     "metadata": {
      "needs_background": "light"
     },
     "output_type": "display_data"
    }
   ],
   "source": [
    "# Plot verschil positief negatief per 2 weken + opgesplitst in vaccinatie/niet-vaccinatie + aantal artikelen\n",
    "fig = plt.figure()\n",
    "ax1 = fig.add_subplot(111)\n",
    "\n",
    "scatter = ax1.scatter(vaccinatie_2week['datetime'], vaccinatie_2week['verschil'], c='#ff7600', s=4*vaccinatie_count_2week['number_of_articles'], label='vaccinatie')\n",
    "scatter = ax1.scatter(niet_vaccinatie_2week['datetime'], niet_vaccinatie_2week['verschil'], c='#29d5d6', s=4*niet_vaccinatie_count_2week['number_of_articles'], label='niet_vaccinatie')\n",
    "ax1.set_ylabel('verschil')\n",
    "legend1 = ax1.legend(loc=\"upper left\")\n",
    "ax1.add_artist(legend1)\n",
    "handles, labels = scatter.legend_elements(prop=\"sizes\", alpha=0.6, func = lambda x: x/4, num=5)\n",
    "legend2 = ax1.legend(handles, labels, loc=\"upper right\", title=\"Aantal artikelen\")\n",
    "plt.show()"
   ]
  },
  {
   "cell_type": "code",
   "execution_count": 33,
   "metadata": {},
   "outputs": [],
   "source": [
    "# Inladen dataset gedrag en besmettingen (https://data.rivm.nl/covid-19/)\n",
    "gedrag = pd.read_csv('COVID-19_gedrag.csv', sep=';')\n",
    "besmettingen = pd.read_csv('COVID-19_casus_landelijk.csv', sep=';')"
   ]
  },
  {
   "cell_type": "code",
   "execution_count": 34,
   "metadata": {},
   "outputs": [
    {
     "data": {
      "text/html": [
       "<div>\n",
       "<style scoped>\n",
       "    .dataframe tbody tr th:only-of-type {\n",
       "        vertical-align: middle;\n",
       "    }\n",
       "\n",
       "    .dataframe tbody tr th {\n",
       "        vertical-align: top;\n",
       "    }\n",
       "\n",
       "    .dataframe thead th {\n",
       "        text-align: right;\n",
       "    }\n",
       "</style>\n",
       "<table border=\"1\" class=\"dataframe\">\n",
       "  <thead>\n",
       "    <tr style=\"text-align: right;\">\n",
       "      <th></th>\n",
       "      <th>Date_statistics</th>\n",
       "      <th>number_of_cases</th>\n",
       "    </tr>\n",
       "  </thead>\n",
       "  <tbody>\n",
       "    <tr>\n",
       "      <th>0</th>\n",
       "      <td>2020-01-01</td>\n",
       "      <td>4</td>\n",
       "    </tr>\n",
       "    <tr>\n",
       "      <th>1</th>\n",
       "      <td>2020-01-04</td>\n",
       "      <td>1</td>\n",
       "    </tr>\n",
       "    <tr>\n",
       "      <th>2</th>\n",
       "      <td>2020-01-06</td>\n",
       "      <td>1</td>\n",
       "    </tr>\n",
       "    <tr>\n",
       "      <th>3</th>\n",
       "      <td>2020-01-16</td>\n",
       "      <td>1</td>\n",
       "    </tr>\n",
       "    <tr>\n",
       "      <th>4</th>\n",
       "      <td>2020-01-20</td>\n",
       "      <td>2</td>\n",
       "    </tr>\n",
       "  </tbody>\n",
       "</table>\n",
       "</div>"
      ],
      "text/plain": [
       "  Date_statistics  number_of_cases\n",
       "0      2020-01-01                4\n",
       "1      2020-01-04                1\n",
       "2      2020-01-06                1\n",
       "3      2020-01-16                1\n",
       "4      2020-01-20                2"
      ]
     },
     "execution_count": 34,
     "metadata": {},
     "output_type": "execute_result"
    }
   ],
   "source": [
    "# Besmettingen groeperen\n",
    "besmettingen['Date_statistics'] = pd.to_datetime(besmettingen['Date_statistics'], format='%d-%m-%Y')\n",
    "besmettingen = besmettingen.groupby('Date_statistics').count().reset_index()\n",
    "besmettingen = besmettingen[['Date_statistics', 'Date_file']].rename(columns={'Date_file': 'number_of_cases'})\n",
    "besmettingen.head()"
   ]
  },
  {
   "cell_type": "code",
   "execution_count": 35,
   "metadata": {},
   "outputs": [
    {
     "name": "stderr",
     "output_type": "stream",
     "text": [
      "<ipython-input-35-c0e9ac099f74>:3: SettingWithCopyWarning: \n",
      "A value is trying to be set on a copy of a slice from a DataFrame.\n",
      "Try using .loc[row_indexer,col_indexer] = value instead\n",
      "\n",
      "See the caveats in the documentation: https://pandas.pydata.org/pandas-docs/stable/user_guide/indexing.html#returning-a-view-versus-a-copy\n",
      "  draagvlak['Date_of_measurement'] = pd.to_datetime(draagvlak['Date_of_measurement'], format='%d-%m-%Y')\n"
     ]
    },
    {
     "data": {
      "text/html": [
       "<div>\n",
       "<style scoped>\n",
       "    .dataframe tbody tr th:only-of-type {\n",
       "        vertical-align: middle;\n",
       "    }\n",
       "\n",
       "    .dataframe tbody tr th {\n",
       "        vertical-align: top;\n",
       "    }\n",
       "\n",
       "    .dataframe thead th {\n",
       "        text-align: right;\n",
       "    }\n",
       "</style>\n",
       "<table border=\"1\" class=\"dataframe\">\n",
       "  <thead>\n",
       "    <tr style=\"text-align: right;\">\n",
       "      <th></th>\n",
       "      <th>Date_of_report</th>\n",
       "      <th>Date_of_measurement</th>\n",
       "      <th>Wave</th>\n",
       "      <th>Region_code</th>\n",
       "      <th>Region_name</th>\n",
       "      <th>Subgroup_category</th>\n",
       "      <th>Subgroup</th>\n",
       "      <th>Indicator_category</th>\n",
       "      <th>Indicator</th>\n",
       "      <th>Sample_size</th>\n",
       "      <th>Figure_type</th>\n",
       "      <th>Value</th>\n",
       "      <th>Lower_limit</th>\n",
       "      <th>Upper_limit</th>\n",
       "      <th>Change_wrt_previous_measurement</th>\n",
       "    </tr>\n",
       "  </thead>\n",
       "  <tbody>\n",
       "    <tr>\n",
       "      <th>0</th>\n",
       "      <td>4-5-2021 10:00</td>\n",
       "      <td>2020-09-29</td>\n",
       "      <td>1</td>\n",
       "      <td>NL00</td>\n",
       "      <td>Nederland</td>\n",
       "      <td>Alle</td>\n",
       "      <td>Totaal</td>\n",
       "      <td>Draagvlak</td>\n",
       "      <td>Avondklok</td>\n",
       "      <td>0</td>\n",
       "      <td>Percentage</td>\n",
       "      <td>NaN</td>\n",
       "      <td>NaN</td>\n",
       "      <td>NaN</td>\n",
       "      <td>NaN</td>\n",
       "    </tr>\n",
       "    <tr>\n",
       "      <th>36</th>\n",
       "      <td>4-5-2021 10:00</td>\n",
       "      <td>2020-09-29</td>\n",
       "      <td>1</td>\n",
       "      <td>NL00</td>\n",
       "      <td>Nederland</td>\n",
       "      <td>Alle</td>\n",
       "      <td>Totaal</td>\n",
       "      <td>Draagvlak</td>\n",
       "      <td>Bij_klachten_blijf_thuis</td>\n",
       "      <td>5002</td>\n",
       "      <td>Percentage</td>\n",
       "      <td>82.3</td>\n",
       "      <td>81.2</td>\n",
       "      <td>83.5</td>\n",
       "      <td>NaN</td>\n",
       "    </tr>\n",
       "    <tr>\n",
       "      <th>72</th>\n",
       "      <td>4-5-2021 10:00</td>\n",
       "      <td>2020-09-29</td>\n",
       "      <td>1</td>\n",
       "      <td>NL00</td>\n",
       "      <td>Nederland</td>\n",
       "      <td>Alle</td>\n",
       "      <td>Totaal</td>\n",
       "      <td>Draagvlak</td>\n",
       "      <td>Bij_klachten_laat_testen</td>\n",
       "      <td>4982</td>\n",
       "      <td>Percentage</td>\n",
       "      <td>64.3</td>\n",
       "      <td>62.8</td>\n",
       "      <td>65.8</td>\n",
       "      <td>NaN</td>\n",
       "    </tr>\n",
       "    <tr>\n",
       "      <th>108</th>\n",
       "      <td>4-5-2021 10:00</td>\n",
       "      <td>2020-09-29</td>\n",
       "      <td>1</td>\n",
       "      <td>NL00</td>\n",
       "      <td>Nederland</td>\n",
       "      <td>Alle</td>\n",
       "      <td>Totaal</td>\n",
       "      <td>Draagvlak</td>\n",
       "      <td>Draag_mondkapje_in_ov</td>\n",
       "      <td>0</td>\n",
       "      <td>Percentage</td>\n",
       "      <td>NaN</td>\n",
       "      <td>NaN</td>\n",
       "      <td>NaN</td>\n",
       "      <td>NaN</td>\n",
       "    </tr>\n",
       "    <tr>\n",
       "      <th>144</th>\n",
       "      <td>4-5-2021 10:00</td>\n",
       "      <td>2020-09-29</td>\n",
       "      <td>1</td>\n",
       "      <td>NL00</td>\n",
       "      <td>Nederland</td>\n",
       "      <td>Alle</td>\n",
       "      <td>Totaal</td>\n",
       "      <td>Draagvlak</td>\n",
       "      <td>Draag_mondkapje_in_publieke_binnenruimtes</td>\n",
       "      <td>0</td>\n",
       "      <td>Percentage</td>\n",
       "      <td>NaN</td>\n",
       "      <td>NaN</td>\n",
       "      <td>NaN</td>\n",
       "      <td>NaN</td>\n",
       "    </tr>\n",
       "  </tbody>\n",
       "</table>\n",
       "</div>"
      ],
      "text/plain": [
       "     Date_of_report Date_of_measurement  Wave Region_code Region_name  \\\n",
       "0    4-5-2021 10:00          2020-09-29     1        NL00   Nederland   \n",
       "36   4-5-2021 10:00          2020-09-29     1        NL00   Nederland   \n",
       "72   4-5-2021 10:00          2020-09-29     1        NL00   Nederland   \n",
       "108  4-5-2021 10:00          2020-09-29     1        NL00   Nederland   \n",
       "144  4-5-2021 10:00          2020-09-29     1        NL00   Nederland   \n",
       "\n",
       "    Subgroup_category Subgroup Indicator_category  \\\n",
       "0                Alle   Totaal          Draagvlak   \n",
       "36               Alle   Totaal          Draagvlak   \n",
       "72               Alle   Totaal          Draagvlak   \n",
       "108              Alle   Totaal          Draagvlak   \n",
       "144              Alle   Totaal          Draagvlak   \n",
       "\n",
       "                                     Indicator  Sample_size Figure_type  \\\n",
       "0                                    Avondklok            0  Percentage   \n",
       "36                    Bij_klachten_blijf_thuis         5002  Percentage   \n",
       "72                    Bij_klachten_laat_testen         4982  Percentage   \n",
       "108                      Draag_mondkapje_in_ov            0  Percentage   \n",
       "144  Draag_mondkapje_in_publieke_binnenruimtes            0  Percentage   \n",
       "\n",
       "     Value  Lower_limit  Upper_limit  Change_wrt_previous_measurement  \n",
       "0      NaN          NaN          NaN                              NaN  \n",
       "36    82.3         81.2         83.5                              NaN  \n",
       "72    64.3         62.8         65.8                              NaN  \n",
       "108    NaN          NaN          NaN                              NaN  \n",
       "144    NaN          NaN          NaN                              NaN  "
      ]
     },
     "execution_count": 35,
     "metadata": {},
     "output_type": "execute_result"
    }
   ],
   "source": [
    "# Gedrag filteren op draagvlak\n",
    "draagvlak = gedrag[(gedrag['Region_name'] == 'Nederland') & (gedrag['Subgroup_category'] == 'Alle') & (gedrag['Indicator_category'] == 'Draagvlak')]\n",
    "draagvlak['Date_of_measurement'] = pd.to_datetime(draagvlak['Date_of_measurement'], format='%d-%m-%Y')\n",
    "draagvlak.head()"
   ]
  },
  {
   "cell_type": "code",
   "execution_count": 36,
   "metadata": {},
   "outputs": [
    {
     "data": {
      "text/html": [
       "<div>\n",
       "<style scoped>\n",
       "    .dataframe tbody tr th:only-of-type {\n",
       "        vertical-align: middle;\n",
       "    }\n",
       "\n",
       "    .dataframe tbody tr th {\n",
       "        vertical-align: top;\n",
       "    }\n",
       "\n",
       "    .dataframe thead th {\n",
       "        text-align: right;\n",
       "    }\n",
       "</style>\n",
       "<table border=\"1\" class=\"dataframe\">\n",
       "  <thead>\n",
       "    <tr style=\"text-align: right;\">\n",
       "      <th></th>\n",
       "      <th>Date_of_measurement</th>\n",
       "      <th>Value</th>\n",
       "    </tr>\n",
       "  </thead>\n",
       "  <tbody>\n",
       "    <tr>\n",
       "      <th>0</th>\n",
       "      <td>2020-09-29</td>\n",
       "      <td>81.700000</td>\n",
       "    </tr>\n",
       "    <tr>\n",
       "      <th>1</th>\n",
       "      <td>2020-10-20</td>\n",
       "      <td>87.330000</td>\n",
       "    </tr>\n",
       "    <tr>\n",
       "      <th>2</th>\n",
       "      <td>2020-11-10</td>\n",
       "      <td>85.840000</td>\n",
       "    </tr>\n",
       "    <tr>\n",
       "      <th>3</th>\n",
       "      <td>2020-12-01</td>\n",
       "      <td>85.630000</td>\n",
       "    </tr>\n",
       "    <tr>\n",
       "      <th>4</th>\n",
       "      <td>2020-12-15</td>\n",
       "      <td>87.910000</td>\n",
       "    </tr>\n",
       "    <tr>\n",
       "      <th>5</th>\n",
       "      <td>2021-01-05</td>\n",
       "      <td>87.960000</td>\n",
       "    </tr>\n",
       "    <tr>\n",
       "      <th>6</th>\n",
       "      <td>2021-01-26</td>\n",
       "      <td>85.781818</td>\n",
       "    </tr>\n",
       "    <tr>\n",
       "      <th>7</th>\n",
       "      <td>2021-02-16</td>\n",
       "      <td>82.063636</td>\n",
       "    </tr>\n",
       "    <tr>\n",
       "      <th>8</th>\n",
       "      <td>2021-03-09</td>\n",
       "      <td>80.990909</td>\n",
       "    </tr>\n",
       "    <tr>\n",
       "      <th>9</th>\n",
       "      <td>2021-03-30</td>\n",
       "      <td>80.536364</td>\n",
       "    </tr>\n",
       "    <tr>\n",
       "      <th>10</th>\n",
       "      <td>2021-04-20</td>\n",
       "      <td>79.100000</td>\n",
       "    </tr>\n",
       "  </tbody>\n",
       "</table>\n",
       "</div>"
      ],
      "text/plain": [
       "   Date_of_measurement      Value\n",
       "0           2020-09-29  81.700000\n",
       "1           2020-10-20  87.330000\n",
       "2           2020-11-10  85.840000\n",
       "3           2020-12-01  85.630000\n",
       "4           2020-12-15  87.910000\n",
       "5           2021-01-05  87.960000\n",
       "6           2021-01-26  85.781818\n",
       "7           2021-02-16  82.063636\n",
       "8           2021-03-09  80.990909\n",
       "9           2021-03-30  80.536364\n",
       "10          2021-04-20  79.100000"
      ]
     },
     "execution_count": 36,
     "metadata": {},
     "output_type": "execute_result"
    }
   ],
   "source": [
    "# Draagvlak groeperen per meetdatum en gemiddelde waarde nemen\n",
    "draagvlak_mean = draagvlak.groupby('Date_of_measurement').mean().reset_index()\n",
    "draagvlak_mean = draagvlak_mean[['Date_of_measurement', 'Value']]\n",
    "draagvlak_mean"
   ]
  },
  {
   "cell_type": "code",
   "execution_count": 37,
   "metadata": {},
   "outputs": [
    {
     "data": {
      "image/png": "[encoded data removed]",
      "text/plain": [
       "<Figure size 720x360 with 2 Axes>"
      ]
     },
     "metadata": {
      "needs_background": "light"
     },
     "output_type": "display_data"
    }
   ],
   "source": [
    "# Plot verschil positief negatief per 2 weken + draagvlak\n",
    "fig, ax1 = plt.subplots()\n",
    "\n",
    "color = '#29cbcd'\n",
    "ax1.set_ylabel('Verschil', color=color)\n",
    "ax1.scatter(data_mean_count_2week['datetime'], data_mean_count_2week['verschil'], color=color)\n",
    "ax1.tick_params(axis='y', color=color)\n",
    "\n",
    "ax2 = ax1.twinx()\n",
    "\n",
    "color = '#040424'\n",
    "ax2.set_ylabel('Draagvlak (%)', color=color)\n",
    "ax2.plot(draagvlak_mean['Date_of_measurement'], draagvlak_mean['Value'], color=color)\n",
    "\n",
    "fig.tight_layout()\n",
    "plt.xlim('2020-09', '2021-05')\n",
    "plt.show()"
   ]
  },
  {
   "cell_type": "code",
   "execution_count": 38,
   "metadata": {},
   "outputs": [
    {
     "data": {
      "image/png": "[encoded data removed]",
      "text/plain": [
       "<Figure size 720x360 with 2 Axes>"
      ]
     },
     "metadata": {
      "needs_background": "light"
     },
     "output_type": "display_data"
    }
   ],
   "source": [
    "# Plot verschil positief negatief + aantal besmettingen\n",
    "fig, ax1 = plt.subplots()\n",
    "\n",
    "color = '#29cbcd'\n",
    "ax1.set_ylabel('Verschil', color=color)\n",
    "ax1.scatter(niet_vaccinatie_2week['datetime'], niet_vaccinatie_2week['verschil'], color=color)\n",
    "\n",
    "ax2 = ax1.twinx()\n",
    "\n",
    "color = '#040424'\n",
    "ax2.set_ylabel('Aantal besmettingen', color=color) \n",
    "ax2.plot(besmettingen['Date_statistics'], besmettingen['number_of_cases'], color=color)\n",
    "\n",
    "plt.xlim('2020-09', '2021-03')\n",
    "fig.tight_layout()  \n",
    "plt.show()"
   ]
  },
  {
   "cell_type": "code",
   "execution_count": null,
   "metadata": {},
   "outputs": [],
   "source": []
  }
 ],
 "metadata": {
  "kernelspec": {
   "display_name": "Python 3",
   "language": "python",
   "name": "python3"
  },
  "language_info": {
   "codemirror_mode": {
    "name": "ipython",
    "version": 3
   },
   "file_extension": ".py",
   "mimetype": "text/x-python",
   "name": "python",
   "nbconvert_exporter": "python",
   "pygments_lexer": "ipython3",
   "version": "3.8.5"
  }
 },
 "nbformat": 4,
 "nbformat_minor": 4
}
